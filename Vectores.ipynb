{
  "nbformat": 4,
  "nbformat_minor": 0,
  "metadata": {
    "colab": {
      "provenance": [],
      "authorship_tag": "ABX9TyOijcMUXoDZI+nRCjaWol1P"
    },
    "kernelspec": {
      "name": "python3",
      "display_name": "Python 3"
    },
    "language_info": {
      "name": "python"
    }
  },
  "cells": [
    {
      "cell_type": "code",
      "execution_count": null,
      "metadata": {
        "id": "yRo80bmJWGnu"
      },
      "outputs": [],
      "source": [
        "import numpy as np\n",
        "vector=np.array([1,2,3,4,5])\n",
        "print(vector)  # Output: [1 2 3 4 5]\n",
        "print(vector[2])\n",
        "\n",
        "vector=np.zeros(5)\n",
        "print(vector)  # Output: [0. 0. 0. 0.\n",
        "vector2=np.ones(5)\n",
        "print(vector2)  # Output: [1. 1. 1. 1.\n",
        "vector3=np.arrange(1,5,100)\n",
        "print(\"rango\", vector3)\n",
        "vector4=np.linspace(1,10,5)\n",
        "print(\"linspace\", vector4)\n",
        "vector5=np.random.rand(10)\n",
        "print(\"random\",vector5)\n",
        "vector6=np.random.randint(1,10,100)\n",
        "print(\"randomint\",vector6)\n"
      ]
    },
    {
      "cell_type": "markdown",
      "source": [
        "\"\"\"\n",
        "Los vectores no son como las listas no tienen un metodo\n",
        "end() para agregar elementos o tienen un metodo pop()\n",
        "para elmiminar elementos, pero si tienen un metodo reshape()\n",
        "para cambiar su forma, adicionalmente depsues de ser creado no\n",
        "se puede cambiar el tamñao del vector\n",
        "\"\"\""
      ],
      "metadata": {
        "id": "49GRtNXJWUZ8"
      }
    },
    {
      "cell_type": "code",
      "execution_count": null,
      "metadata": {
        "id": "RNSjRnREsTlh"
      },
      "outputs": [],
      "source": [
        "#suma de vectores\n",
        "import numpy as np\n",
        "vector1=np.array([1,2,3,])\n",
        "vector2=np.array([4,5,6,])\n",
        "sum=vector1+vector2\n",
        "print(\"Suma de vectores: \",sum)\n",
        "producto=vector1*vector2\n",
        "print(\"Producto de vectores: \",producto)\n",
        "divs=vector1/vector2\n",
        "print(\"Division de vectores: \",divs)\n",
        "resta=vector1-vector2\n",
        "print(\"Resta de vectores: \",resta)\n",
        "potencia=vector1**2\n",
        "import os\n",
        "print(\"Potencia de vectores:\",potencia)"
      ]
    },
    {
      "cell_type": "markdown",
      "source": [
        "Producto de vectores:  [ 4 10 18]\n",
        "Division de vectores:  [0.25 0.4  0.5 ]\n",
        "Resta de vectores:  [-3 -3 -3]\n",
        "Potencia de vectores: [1 4 9]"
      ],
      "metadata": {
        "id": "eSLh0gfXtChY"
      }
    }
  ]
}