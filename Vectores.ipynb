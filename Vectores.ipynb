{
  "nbformat": 4,
  "nbformat_minor": 0,
  "metadata": {
    "colab": {
      "provenance": [],
      "authorship_tag": "ABX9TyPeKGBANCN8lfaoGnFxwSjS",
      "include_colab_link": true
    },
    "kernelspec": {
      "name": "python3",
      "display_name": "Python 3"
    },
    "language_info": {
      "name": "python"
    }
  },
  "cells": [
    {
      "cell_type": "markdown",
      "metadata": {
        "id": "view-in-github",
        "colab_type": "text"
      },
      "source": [
        "<a href=\"https://colab.research.google.com/github/Cristoph-FX/Arreglos_12_08_25/blob/main/Vectores.ipynb\" target=\"_parent\"><img src=\"https://colab.research.google.com/assets/colab-badge.svg\" alt=\"Open In Colab\"/></a>"
      ]
    },
    {
      "cell_type": "markdown",
      "source": [
        "\"\"\"\n",
        "Los vectores no son como las listas no tienen un metodo\n",
        "end() para agregar elementos o tienen un metodo pop()\n",
        "para elmiminar elementos, pero si tienen un metodo reshape()\n",
        "para cambiar su forma, adicionalmente depsues de ser creado no\n",
        "se puede cambiar el tamñao del vector\n",
        "\"\"\""
      ],
      "metadata": {
        "id": "49GRtNXJWUZ8"
      }
    },
    {
      "cell_type": "code",
      "execution_count": null,
      "metadata": {
        "id": "yRo80bmJWGnu"
      },
      "outputs": [],
      "source": [
        "import numpy as np\n",
        "vector=np.array([1,2,3,4,5])\n",
        "print(vector)  # Output: [1 2 3 4 5]\n",
        "print(vector[2])\n",
        "\n",
        "vector=np.zeros(5)\n",
        "print(vector)  # Output: [0. 0. 0. 0.\n",
        "vector2=np.ones(5)\n",
        "print(vector2)  # Output: [1. 1. 1. 1.\n",
        "vector3=np.arrange(1,5,100)\n",
        "print(\"rango\", vector3)\n",
        "vector4=np.linspace(1,10,5)\n",
        "print(\"linspace\", vector4)\n",
        "vector5=np.random.rand(10)\n",
        "print(\"random\",vector5)\n",
        "vector6=np.random.randint(1,10,100)\n",
        "print(\"randomint\",vector6)\n"
      ]
    }
  ]
}